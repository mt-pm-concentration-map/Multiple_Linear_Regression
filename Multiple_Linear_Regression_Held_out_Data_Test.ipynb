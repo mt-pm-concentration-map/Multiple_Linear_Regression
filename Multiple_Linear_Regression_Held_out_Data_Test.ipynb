{
  "nbformat": 4,
  "nbformat_minor": 0,
  "metadata": {
    "colab": {
      "provenance": []
    },
    "kernelspec": {
      "name": "python3",
      "display_name": "Python 3"
    },
    "language_info": {
      "name": "python"
    }
  },
  "cells": [
    {
      "cell_type": "markdown",
      "source": [
        "# Testing Multiple Linear Regression Model on Hold-out Data"
      ],
      "metadata": {
        "id": "SGGlfdDfNIgb"
      }
    },
    {
      "cell_type": "code",
      "execution_count": null,
      "metadata": {
        "colab": {
          "base_uri": "https://localhost:8080/"
        },
        "id": "Lv8RGK5t3Z7Q",
        "outputId": "96362ee8-0181-40e4-dedb-ba81ba7e4de7"
      },
      "outputs": [
        {
          "output_type": "stream",
          "name": "stdout",
          "text": [
            "To authorize access needed by Earth Engine, open the following URL in a web browser and follow the instructions. If the web browser does not start automatically, please manually browse the URL below.\n",
            "\n",
            "    https://code.earthengine.google.com/client-auth?scopes=https%3A//www.googleapis.com/auth/earthengine%20https%3A//www.googleapis.com/auth/devstorage.full_control&request_id=eP1sWyYgRAuPJmNVYGq8ubmf6SrWQnxdbTMgD2MuVFE&tc=KD-EPbWLf9MmCTga1XnfowniPqs8--Z5VdIIy7reWJc&cc=zL38ayMVqjbYE-cnXPOyiab6m7Y_WpLJ6ryhSMQlbSE\n",
            "\n",
            "The authorization workflow will generate a code, which you should paste in the box below.\n",
            "Enter verification code: 4/1AfJohXl7zMSu5nBIc9TpkDElOINDVYfdZdgPfC2Kw8MzmFF4jo0VPBjvPsM\n",
            "\n",
            "Successfully saved authorization token.\n"
          ]
        }
      ],
      "source": [
        "import ee\n",
        "ee.Authenticate()\n",
        "ee.Initialize()"
      ]
    },
    {
      "cell_type": "markdown",
      "source": [
        "### Import held out data"
      ],
      "metadata": {
        "id": "jwnfMhZaQGw8"
      }
    },
    {
      "cell_type": "code",
      "source": [
        "# bring in the last 10 percent of data for generalizing\n",
        "testing = ee.FeatureCollection('users/aspenjkmorgan/k_folds/test')\n",
        "testing.first().getInfo()"
      ],
      "metadata": {
        "colab": {
          "base_uri": "https://localhost:8080/"
        },
        "id": "7f92AEClQIly",
        "outputId": "32aa8160-7ac6-42a7-bab4-5318fc753765"
      },
      "execution_count": null,
      "outputs": [
        {
          "output_type": "execute_result",
          "data": {
            "text/plain": [
              "{'type': 'Feature',\n",
              " 'geometry': {'type': 'Point', 'coordinates': [-114.189259, 48.363709]},\n",
              " 'id': '00000000000000000000',\n",
              " 'properties': {'DPT': 5.050012111663818,\n",
              "  'PBLH': 903.87353515625,\n",
              "  'PRES': 91148.5,\n",
              "  'RH': 59.955150648997744,\n",
              "  'TMP': 12.624994277954102,\n",
              "  'WDIR': 201.3000030517578,\n",
              "  'WIND': 1.7549999952316284,\n",
              "  'aod': 0.217,\n",
              "  'pm25': 3.103142857,\n",
              "  'random': 0.9806150715932024,\n",
              "  'station': 'Flathead Valley',\n",
              "  'system:time_start': 1339092000000}}"
            ]
          },
          "metadata": {},
          "execution_count": 2
        }
      ]
    },
    {
      "cell_type": "markdown",
      "source": [
        "### Use best split of data for training the model"
      ],
      "metadata": {
        "id": "L4sYlWW0QLRt"
      }
    },
    {
      "cell_type": "code",
      "source": [
        "# best fold of training data\n",
        "training = ee.FeatureCollection('users/aspenjkmorgan/k_folds/training_fold_9')\n",
        "training.first().getInfo()"
      ],
      "metadata": {
        "colab": {
          "base_uri": "https://localhost:8080/"
        },
        "id": "Fph2vLyKQLdD",
        "outputId": "a20815c5-8d1b-46ec-a514-9ac2ac810f55"
      },
      "execution_count": null,
      "outputs": [
        {
          "output_type": "execute_result",
          "data": {
            "text/plain": [
              "{'type': 'Feature',\n",
              " 'geometry': {'type': 'Point', 'coordinates': [-114.189259, 48.363709]},\n",
              " 'id': '00000000000000000000',\n",
              " 'properties': {'DPT': -4.599997043609619,\n",
              "  'PBLH': 66.51596069335938,\n",
              "  'PRES': 91613.5,\n",
              "  'RH': 67.44328718390516,\n",
              "  'TMP': 0.7449890375137329,\n",
              "  'WDIR': 234.10000610351562,\n",
              "  'WIND': 0.5600000023841858,\n",
              "  'aod': 0.008,\n",
              "  'pm25': 5.5785,\n",
              "  'random': 0.006469227008691791,\n",
              "  'station': 'Flathead Valley',\n",
              "  'system:time_start': 1325534400000}}"
            ]
          },
          "metadata": {},
          "execution_count": 3
        }
      ]
    },
    {
      "cell_type": "markdown",
      "source": [
        "### Helper functions"
      ],
      "metadata": {
        "id": "gDIp_0sqQSrx"
      }
    },
    {
      "cell_type": "code",
      "source": [
        "# Compute the difference between computed pm25 and actual\n",
        "def difference(feature):\n",
        "  diff = ee.Number(feature.get('pm_cal')) \\\n",
        "    .subtract(ee.Number(feature.get('pm25')))\n",
        "  # Return the feature with the squared difference set to the 'diff' property.\n",
        "  return feature.set('sq_diff', diff.pow(2))\n",
        "\n",
        "def getTss(feature):\n",
        "  buf = ee.Number(feature.get('pm25')).subtract(ee.Number(mean_actual))\n",
        "  return feature.set('tss', buf.pow(2))"
      ],
      "metadata": {
        "id": "jMznWaT2QS9E"
      },
      "execution_count": null,
      "outputs": []
    },
    {
      "cell_type": "markdown",
      "source": [
        "### Multiple Linear Regression Model"
      ],
      "metadata": {
        "id": "qKZXQFQtQXhF"
      }
    },
    {
      "cell_type": "code",
      "source": [
        "# add constant column to training set for bis\n",
        "def addConstant(feature):\n",
        "  return feature.set('constant', 1)\n",
        "training = training.map(addConstant)\n",
        "\n",
        "mlr_model = training.reduceColumns(**{\n",
        "    'reducer': ee.Reducer.linearRegression(**{'numX': 8,'numY': 1}),\n",
        "    'selectors': ['aod', 'WIND', 'RH', 'PRES', 'WDIR', 'DPT', 'PBLH', 'constant', 'pm25']})\n",
        "\n",
        "coeffs = ee.Array(mlr_model.get('coefficients')).toList()\n",
        "\n",
        "def applyLinearRegModel(feature):\n",
        "  aod_effect = ee.Number(feature.get('aod')).multiply(ee.List(coeffs.get(0)).get(0))\n",
        "  wind_effect = ee.Number(feature.get('WIND')).multiply(ee.List(coeffs.get(1)).get(0))\n",
        "  rh_effect = ee.Number(feature.get('RH')).multiply(ee.List(coeffs.get(2)).get(0))\n",
        "  pres_effect = ee.Number(feature.get('PRES')).multiply(ee.List(coeffs.get(3)).get(0))\n",
        "  wdir_effect = ee.Number(feature.get('WDIR')).multiply(ee.List(coeffs.get(4)).get(0))\n",
        "  dpt_effect = ee.Number(feature.get('DPT')).multiply(ee.List(coeffs.get(5)).get(0))\n",
        "  pblh_effect = ee.Number(feature.get('PBLH')).multiply(ee.List(coeffs.get(6)).get(0))\n",
        "  y_int = ee.Number(ee.List(coeffs.get(7)).get(0))\n",
        "  pm_cal = aod_effect.add(wind_effect).add(rh_effect).add(pres_effect).add(wdir_effect).add(dpt_effect).add(pblh_effect).add(y_int)\n",
        "  return feature.set('pm_cal', pm_cal)"
      ],
      "metadata": {
        "id": "r40ZwugUQZcL"
      },
      "execution_count": null,
      "outputs": []
    },
    {
      "cell_type": "code",
      "source": [
        "# get predictions\n",
        "testing_applied = testing.map(applyLinearRegModel)"
      ],
      "metadata": {
        "id": "Pzj_KKAlQdfJ"
      },
      "execution_count": null,
      "outputs": []
    },
    {
      "cell_type": "code",
      "source": [
        "testing_applied.first().getInfo()"
      ],
      "metadata": {
        "colab": {
          "base_uri": "https://localhost:8080/"
        },
        "id": "F5cJyceWQgGS",
        "outputId": "34a9c7b3-cf5e-4d89-e272-ec3bd7ee77a2"
      },
      "execution_count": null,
      "outputs": [
        {
          "output_type": "execute_result",
          "data": {
            "text/plain": [
              "{'type': 'Feature',\n",
              " 'geometry': {'type': 'Point', 'coordinates': [-114.189259, 48.363709]},\n",
              " 'id': '00000000000000000000',\n",
              " 'properties': {'DPT': 5.050012111663818,\n",
              "  'PBLH': 903.87353515625,\n",
              "  'PRES': 91148.5,\n",
              "  'RH': 59.955150648997744,\n",
              "  'TMP': 12.624994277954102,\n",
              "  'WDIR': 201.3000030517578,\n",
              "  'WIND': 1.7549999952316284,\n",
              "  'aod': 0.217,\n",
              "  'pm25': 3.103142857,\n",
              "  'pm_cal': 9.181665691049579,\n",
              "  'random': 0.9806150715932024,\n",
              "  'station': 'Flathead Valley',\n",
              "  'system:time_start': 1339092000000}}"
            ]
          },
          "metadata": {},
          "execution_count": 16
        }
      ]
    },
    {
      "cell_type": "markdown",
      "source": [
        "### Calculate Metrics (RMSE and $R^2$)"
      ],
      "metadata": {
        "id": "7RJD2R4JQhja"
      }
    },
    {
      "cell_type": "code",
      "source": [
        "mean_actual = testing_applied.aggregate_mean('pm25')\n",
        "testing_applied = testing_applied.map(difference)\n",
        "testing_applied = testing_applied.map(getTss)\n",
        "\n",
        "# RMSE for validation data\n",
        "testing_rmse = ee.Number(testing_applied.reduceColumns(ee.Reducer.mean(), ['sq_diff']).get('mean')).sqrt()"
      ],
      "metadata": {
        "id": "IVCquwZFQmNU"
      },
      "execution_count": null,
      "outputs": []
    },
    {
      "cell_type": "code",
      "source": [
        "print('RMSE: ' + str(testing_rmse.getInfo()))"
      ],
      "metadata": {
        "colab": {
          "base_uri": "https://localhost:8080/"
        },
        "id": "VVtTTAP_Qnqp",
        "outputId": "08d29afa-f0e1-45c1-f103-295e18c7ce3e"
      },
      "execution_count": null,
      "outputs": [
        {
          "output_type": "stream",
          "name": "stdout",
          "text": [
            "RMSE: 11.431809878182252\n"
          ]
        }
      ]
    },
    {
      "cell_type": "code",
      "source": [
        "# get R2\n",
        "rss = ee.Number(testing_applied.reduceColumns(ee.Reducer.sum(), ['sq_diff']).get('sum'))\n",
        "tss = ee.Number(testing_applied.reduceColumns(ee.Reducer.sum(), ['tss']).get('sum'))\n",
        "r2 = ee.Number(1).subtract(rss.divide(tss))"
      ],
      "metadata": {
        "id": "g8TRIQPMQoDM"
      },
      "execution_count": null,
      "outputs": []
    },
    {
      "cell_type": "code",
      "source": [
        "print('R2: ' + str(r2.getInfo()))"
      ],
      "metadata": {
        "colab": {
          "base_uri": "https://localhost:8080/"
        },
        "id": "TJove4p_QoIf",
        "outputId": "bae1020c-5da5-4472-e0d1-0eb7c8288bd3"
      },
      "execution_count": null,
      "outputs": [
        {
          "output_type": "stream",
          "name": "stdout",
          "text": [
            "R2: 0.44725984407759656\n"
          ]
        }
      ]
    }
  ]
}